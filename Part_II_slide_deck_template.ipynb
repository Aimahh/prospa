{
 "cells": [
  {
   "cell_type": "markdown",
   "metadata": {
    "slideshow": {
     "slide_type": "slide"
    }
   },
   "source": [
    "# Part II -  (Prosper Loan Data Explanatory Analysis)\n",
    "## by (Imaobong Anwana)"
   ]
  },
  {
   "cell_type": "markdown",
   "metadata": {
    "slideshow": {
     "slide_type": "slide"
    }
   },
   "source": [
    ">**Before you start**: You must have the README.md file ready that include a summary of main findings that reflects on the steps taken during the data exploration (Part I notebook). The README.md file should also describes the key insights that will be conveyed by the explanatory slide deck (Part II  outcome)\n",
    "\n",
    "\n",
    "\n",
    "## Investigation Overview\n",
    "\n",
    "\n",
    "Can borrowers monthly salary influence loan amount, does the fact that the borrower is a homeowner affect loan amount.The main purpose of this exploration was to figure out the demography of borrowers like (state, occupation, employment status) and check for pointers to the loan amount that was granted to borrowers, what determined the amount borrowers could get, if there was any relationship between other variables and the loan amount\n",
    "\n",
    "\n",
    "## Dataset Overview\n",
    "\n",
    "Dataset Overview\n",
    "The dataset that was explored contained information about over 100,000 loan listings and their characteristics. Variables include listing category to signify why the loan was taken, credit scores, employment status, occupation, investors to show how many investors contributed to a particular loan and other interesting variables."
   ]
  },
  {
   "cell_type": "code",
   "execution_count": null,
   "metadata": {
    "slideshow": {
     "slide_type": "skip"
    }
   },
   "outputs": [],
   "source": [
    "# import all packages and set plots to be embedded inline\n",
    "import numpy as np\n",
    "import pandas as pd\n",
    "import matplotlib.pyplot as plt\n",
    "import seaborn as sns\n",
    "\n",
    "%matplotlib inline\n",
    "\n",
    "# suppress warnings from final output\n",
    "import warnings\n",
    "warnings.simplefilter(\"ignore\")"
   ]
  },
  {
   "cell_type": "code",
   "execution_count": null,
   "metadata": {
    "slideshow": {
     "slide_type": "skip"
    }
   },
   "outputs": [],
   "source": [
    "# load in the dataset into a pandas dataframe\n",
    "loan = pd.read_csv('prosperLoanData.csv')"
   ]
  },
  {
   "cell_type": "code",
   "execution_count": null,
   "metadata": {},
   "outputs": [],
   "source": [
    "def fig_size(a,b):\n",
    "    # calling figsize parameters\n",
    "    return plt.figure(figsize=(a,b))"
   ]
  },
  {
   "cell_type": "code",
   "execution_count": null,
   "metadata": {},
   "outputs": [],
   "source": [
    "def labels(a,b,c):\n",
    "    return plt.title(a),plt.ylabel(b),plt.xlabel(c)"
   ]
  },
  {
   "cell_type": "code",
   "execution_count": null,
   "metadata": {
    "slideshow": {
     "slide_type": "subslide"
    }
   },
   "outputs": [],
   "source": [
    "fig_size(12,8);\n",
    "color = sns.color_palette()[0]\n",
    "order = loan.BorrowerState.value_counts().iloc[:10].index\n",
    "sns.countplot(data=loan, y='BorrowerState', color=color, order=order)\n",
    "labels('Borrower State','State Abbreviation','Frequency');\n"
   ]
  },
  {
   "cell_type": "markdown",
   "metadata": {
    "slideshow": {
     "slide_type": "slide"
    }
   },
   "source": [
    "As we saw in the previous slide, most borrowers are from California, Texas and New york. Next we would limit the plot categories to 10 to see that Professionals and Computer Programmers are the occupations that take the most loans.\n",
    "\n"
   ]
  },
  {
   "cell_type": "code",
   "execution_count": null,
   "metadata": {
    "slideshow": {
     "slide_type": "subslide"
    }
   },
   "outputs": [],
   "source": [
    "fig_size(12,8)\n",
    "color = sns.color_palette()[0]\n",
    "order = loan.Occupation.value_counts().iloc[:10].index\n",
    "sns.countplot(data=loan, y='Occupation', color=color, order=order)\n",
    "labels('Borrower\\'s Occupation','Occupation','Frequency');\n"
   ]
  },
  {
   "cell_type": "markdown",
   "metadata": {
    "collapsed": true,
    "slideshow": {
     "slide_type": "slide"
    }
   },
   "source": [
    "## (Visualization 2)\n",
    "\n",
    "Now that we have a general idea of the population of the borrowers, let's further show their employment status and income range to gain further insight into the finances of people taking loans.\n",
    "\n"
   ]
  },
  {
   "cell_type": "code",
   "execution_count": null,
   "metadata": {
    "slideshow": {
     "slide_type": "subslide"
    }
   },
   "outputs": [],
   "source": [
    "fig_size(12,8)\n",
    "color = sns.color_palette()[0]\n",
    "order = loan.EmploymentStatus.value_counts().index\n",
    "sns.countplot(data=loan, x='EmploymentStatus', color=color, order=order)\n",
    "labels('Employment Status','Frequency','Status');\n"
   ]
  },
  {
   "cell_type": "markdown",
   "metadata": {
    "slideshow": {
     "slide_type": "slide"
    }
   },
   "source": [
    "Most of the borrowers population are employed or have a full time job. Unlike initial impression, because most of the loans were taken for business, self-employed people do not top the list. People between the 25k-75k income range take the most loans as we can see in the plot below.\n",
    "\n"
   ]
  },
  {
   "cell_type": "code",
   "execution_count": null,
   "metadata": {
    "slideshow": {
     "slide_type": "subslide"
    }
   },
   "outputs": [],
   "source": [
    "fig_size(12,8)\n",
    "color = sns.color_palette()[0]\n",
    "order = ['Not displayed','Not employed','$0','$1-24,999','$25,000-49,999','$50,000-74,999','$75,000-99,999','$100,000+']\n",
    "sns.countplot(data=loan, x='IncomeRange', color=color, order=order)\n",
    "labels('Income Range','Frequency','Income Range');"
   ]
  },
  {
   "cell_type": "markdown",
   "metadata": {
    "slideshow": {
     "slide_type": "slide"
    }
   },
   "source": [
    "## (Visualization 3)\n",
    "\n",
    "Finally we'd show how the higher your income the higher your chances of getting larger loans as is obvious in the violin plot below. The higher the income, the wider the width of the violin plot in top areas that signifies higher loan amounts."
   ]
  },
  {
   "cell_type": "code",
   "execution_count": null,
   "metadata": {
    "slideshow": {
     "slide_type": "subslide"
    }
   },
   "outputs": [],
   "source": [
    "\n",
    "fig_size(12,8)\n",
    "color = sns.color_palette()[0]\n",
    "order = ['Not displayed','Not employed','$0','$1-24,999','$25,000-49,999','$50,000-74,999','$75,000-99,999','$100,000+']\n",
    "sns.violinplot(data=loan, x='IncomeRange', y='LoanOriginalAmount', color=color, order=order)\n",
    "labels('Loan Amount by Income Range','Loan Amount ($)','Income Range');"
   ]
  },
  {
   "cell_type": "markdown",
   "metadata": {},
   "source": [
    "Also, the more the income the more likelihood it is that the borrower is a homeowner. The population below the 50k income range, have lesser homeowners than renters."
   ]
  },
  {
   "cell_type": "code",
   "execution_count": null,
   "metadata": {
    "slideshow": {
     "slide_type": "subslide"
    }
   },
   "outputs": [],
   "source": [
    "fig_size(12,8)\n",
    "order = ['Not displayed','Not employed','$0','$1-24,999','$25,000-49,999','$50,000-74,999','$75,000-99,999','$100,000+']\n",
    "sns.countplot(data=loan, x='IncomeRange', hue='IsBorrowerHomeowner', order=order)\n",
    "labels('Home Owner Status by Income Range','Frequency','Income range');"
   ]
  },
  {
   "cell_type": "markdown",
   "metadata": {
    "slideshow": {
     "slide_type": "skip"
    }
   },
   "source": [
    "### Generate Slideshow\n",
    "Once you're ready to generate your slideshow, use the `jupyter nbconvert` command to generate the HTML\n",
    "slide show.  "
   ]
  },
  {
   "cell_type": "code",
   "execution_count": null,
   "metadata": {
    "slideshow": {
     "slide_type": "skip"
    }
   },
   "outputs": [],
   "source": [
    "# Use this command if you are running this file in local\n",
    "\n",
    "!jupyter nbconvert Part_II_slide_deck_template.ipynb --to slides --post serve --no-input --no-prompt"
   ]
  },
  {
   "cell_type": "code",
   "execution_count": null,
   "metadata": {},
   "outputs": [],
   "source": []
  }
 ],
 "metadata": {
  "celltoolbar": "Slideshow",
  "kernelspec": {
   "display_name": "Python 3",
   "language": "python",
   "name": "python3"
  },
  "language_info": {
   "codemirror_mode": {
    "name": "ipython",
    "version": 3
   },
   "file_extension": ".py",
   "mimetype": "text/x-python",
   "name": "python",
   "nbconvert_exporter": "python",
   "pygments_lexer": "ipython3",
   "version": "3.6.3"
  }
 },
 "nbformat": 4,
 "nbformat_minor": 2
}
